{
 "cells": [
  {
   "cell_type": "code",
   "execution_count": 2,
   "id": "bb564096-c4f5-4843-9fe6-3d5b91d29434",
   "metadata": {},
   "outputs": [],
   "source": [
    "import json\n",
    "\n",
    "result_path = './resut_dpo_0115_liudaqing1.json'\n",
    "result = json.load(open(result_path))"
   ]
  },
  {
   "cell_type": "code",
   "execution_count": 14,
   "id": "8868a2ed-d069-4815-bd85-65ea719b096f",
   "metadata": {},
   "outputs": [],
   "source": [
    "quality = {'dpo':0, 'base':0, 'indifferent':0}\n",
    "fidelity = {'dpo':0, 'base':0, 'indifferent':0}\n",
    "\n",
    "for res in result:\n",
    "    img1_source = res['img1'].split('/')[-2]\n",
    "    img2_source = res['img2'].split('/')[-2]\n",
    "    answers = [q['answer'] for q in res['question']]\n",
    "    \n",
    "    if answers[0] == 0:\n",
    "        quality[img1_source] += 1\n",
    "    elif answers[0] == 1:\n",
    "        quality['indifferent'] += 1\n",
    "    elif answers[0] == 2:\n",
    "        quality[img2_source] += 1\n",
    "    else:\n",
    "        assert answers[0] in [0, 1, 2]\n",
    "        \n",
    "    if answers[1] == 0:\n",
    "        fidelity[img1_source] += 1\n",
    "    elif answers[1] == 1:\n",
    "        fidelity['indifferent'] += 1\n",
    "    elif answers[1] == 2:\n",
    "        fidelity[img2_source] += 1\n",
    "    else:\n",
    "        assert answers[1] in [0, 1, 2]"
   ]
  },
  {
   "cell_type": "code",
   "execution_count": 19,
   "id": "d84c47f7-f780-49cd-8a37-cf09e73d9e1e",
   "metadata": {},
   "outputs": [
    {
     "name": "stdout",
     "output_type": "stream",
     "text": [
      "{'dpo': 31, 'base': 26, 'indifferent': 18}\n",
      "dpo:base = 1.1923076923076923\n"
     ]
    }
   ],
   "source": [
    "print(quality)\n",
    "print('quality on dpo:base = '+str(quality['dpo']/quality['base']))"
   ]
  },
  {
   "cell_type": "code",
   "execution_count": 20,
   "id": "13241659-4639-4d21-9109-208e21bc090b",
   "metadata": {},
   "outputs": [
    {
     "name": "stdout",
     "output_type": "stream",
     "text": [
      "{'dpo': 30, 'base': 16, 'indifferent': 29}\n",
      "dpo:base = 1.875\n"
     ]
    }
   ],
   "source": [
    "print(fidelity)\n",
    "print('fidelity on dpo:base = '+str(fidelity['dpo']/fidelity['base']))"
   ]
  },
  {
   "cell_type": "code",
   "execution_count": 21,
   "id": "3e0c66ce-e15a-4b00-a8a7-a0f9a455b012",
   "metadata": {},
   "outputs": [
    {
     "name": "stdout",
     "output_type": "stream",
     "text": [
      "overall on dpo:base = 1.4523809523809523\n"
     ]
    }
   ],
   "source": [
    "print('overall on dpo:base = '+str((quality['dpo']+fidelity['dpo'])/(quality['base']+fidelity['base'])))"
   ]
  },
  {
   "cell_type": "code",
   "execution_count": null,
   "id": "d8140531-399f-40db-95ff-c70ed72160a2",
   "metadata": {},
   "outputs": [],
   "source": []
  }
 ],
 "metadata": {
  "kernelspec": {
   "display_name": "diffusers",
   "language": "python",
   "name": "diffusers"
  },
  "language_info": {
   "codemirror_mode": {
    "name": "ipython",
    "version": 3
   },
   "file_extension": ".py",
   "mimetype": "text/x-python",
   "name": "python",
   "nbconvert_exporter": "python",
   "pygments_lexer": "ipython3",
   "version": "3.10.10"
  }
 },
 "nbformat": 4,
 "nbformat_minor": 5
}

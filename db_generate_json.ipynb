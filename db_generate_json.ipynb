{
 "cells": [
  {
   "cell_type": "code",
   "execution_count": 1,
   "id": "667ffbe6-62ca-4194-ae5f-ebc054c5f2c7",
   "metadata": {},
   "outputs": [],
   "source": [
    "import os\n",
    "import random\n",
    "import json\n",
    "\n",
    "concept_list = ['backpack', 'backpack_dog', 'bear_plushie', 'berry_bowl', 'can', 'candle', 'cat', 'cat2', 'clock', 'colorful_sneaker', 'dog', 'dog2', 'dog3', 'dog5', 'dog6', 'dog7', 'dog8', 'duck_toy', 'fancy_boot', 'grey_sloth_plushie', 'monster_toy', 'pink_sunglasses', 'poop_emoji', 'rc_car', 'red_cartoon', 'robot_toy', 'shiny_sneaker', 'teapot', 'vase', 'wolf_plushie', ]\n",
    "img_path = 'https://raw.githubusercontent.com/daqingliu/Eval_DM/main/db_0115'\n",
    "refimg_path = 'https://raw.githubusercontent.com/daqingliu/Eval_DM/main/dreambooth'\n",
    "\n",
    "q1 = {\"issue\": \"Which image is better, considering concept accuracy, visual performance, and image-text consistency?\",\n",
    "      \"option\": [\"I prefer image A\", \"I am indifferent\", \"I prefer image B\"], \"answer\": -1}\n",
    "questions = [q1]"
   ]
  },
  {
   "cell_type": "code",
   "execution_count": 14,
   "id": "a4c37f79-63f0-459e-9e90-19a0c707dc75",
   "metadata": {},
   "outputs": [],
   "source": [
    "all_data = []\n",
    "\n",
    "for i, concept in enumerate(concept_list):\n",
    "    data = {}\n",
    "    data[\"index\"] = i\n",
    "    data[\"prompt\"] = \"a photo of S* {0} with the Eiffel Tower in the background\".format(concept)\n",
    "    \n",
    "    filenames = os.listdir(os.path.join('dreambooth', concept))\n",
    "    data['refImgs'] = [refimg_path+'/'+concept+'/'+fn for fn in filenames]\n",
    "\n",
    "    random_num = random.randint(0, 1)\n",
    "    img1_url = os.path.join(img_path, 'base', concept+'.png')\n",
    "    img2_url = os.path.join(img_path, 'adv', concept+'.png')\n",
    "\n",
    "    if random_num == 1:\n",
    "        data[\"reverse\"] = True\n",
    "        data[\"img1\"] = img2_url\n",
    "        data[\"img2\"] = img1_url\n",
    "    else:\n",
    "        data[\"reverse\"] = False\n",
    "        data[\"img1\"] = img1_url\n",
    "        data[\"img2\"] = img2_url\n",
    "\n",
    "    data[\"question\"] = questions\n",
    "\n",
    "    all_data.append(data)"
   ]
  },
  {
   "cell_type": "code",
   "execution_count": 15,
   "id": "c8b218ab-fc2f-4edb-b57b-8019e93f32d3",
   "metadata": {},
   "outputs": [],
   "source": [
    "with open('user_study_db_0115.json', 'w') as json_file:\n",
    "    json.dump(all_data, json_file)"
   ]
  },
  {
   "cell_type": "code",
   "execution_count": null,
   "id": "5a2c4f1f-19d2-4f82-b857-f762c75044b9",
   "metadata": {},
   "outputs": [],
   "source": []
  }
 ],
 "metadata": {
  "kernelspec": {
   "display_name": "diffusers",
   "language": "python",
   "name": "diffusers"
  },
  "language_info": {
   "codemirror_mode": {
    "name": "ipython",
    "version": 3
   },
   "file_extension": ".py",
   "mimetype": "text/x-python",
   "name": "python",
   "nbconvert_exporter": "python",
   "pygments_lexer": "ipython3",
   "version": "3.10.10"
  }
 },
 "nbformat": 4,
 "nbformat_minor": 5
}

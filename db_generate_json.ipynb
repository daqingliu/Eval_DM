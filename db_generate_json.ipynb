{
 "cells": [
  {
   "cell_type": "code",
   "execution_count": null,
   "id": "667ffbe6-62ca-4194-ae5f-ebc054c5f2c7",
   "metadata": {},
   "outputs": [],
   "source": [
    "import os\n",
    "import random\n",
    "import json\n",
    "\n",
    "concept_list = ['backpack', 'backpack_dog', 'bear_plushie', 'berry_bowl', 'can', 'candle', 'cat', 'cat2', 'clock', 'colorful_sneaker', 'dog', 'dog2', 'dog3', 'dog5', 'dog6', 'dog7', 'dog8', 'duck_toy', 'fancy_boot', 'grey_sloth_plushie', 'monster_toy', 'pink_sunglasses', 'poop_emoji', 'rc_car', 'red_cartoon', 'robot_toy', 'shiny_sneaker', 'teapot', 'vase', 'wolf_plushie', ]\n",
    "img_path = 'https://raw.githubusercontent.com/daqingliu/Eval_DM/main/db_0115'\n",
    "\n",
    "all_data = []\n",
    "prompts = json.load(open(prompt_path))\n",
    "\n",
    "q1 = {\"issue\": \"Which image if of higher quality\",\n",
    "      \"option\": [\"I prefer image A\", \"I am indifferent\", \"I prefer image B\"], \"answer\": -1}\n",
    "q2 = {\"issue\": \"Which image matches with the caption better\",\n",
    "      \"option\": [\"I prefer image A\", \"I am indifferent\", \"I prefer image B\"], \"answer\": -1}\n",
    "questions = [q1, q2]\n",
    "\n",
    "for i in range(len(prompts)):\n",
    "    data = {}\n",
    "    data[\"index\"] = i\n",
    "    data[\"prompt\"] = prompts[i]\n",
    "    # data[\"flag\"] = False\n",
    "\n",
    "    random_num = random.randint(0, 1)\n",
    "    img1_url = os.path.join(img_path, 'base', str(i)+'.jpg')\n",
    "    img2_url = os.path.join(img_path, 'dpo', str(i)+'.jpg')\n",
    "\n",
    "    if random_num == 1:\n",
    "        data[\"reverse\"] = True\n",
    "        data[\"img1\"] = img2_url\n",
    "        data[\"img2\"] = img1_url\n",
    "    else:\n",
    "        data[\"reverse\"] = False\n",
    "        data[\"img1\"] = img1_url\n",
    "        data[\"img2\"] = img2_url\n",
    "\n",
    "    data[\"question\"] = questions\n",
    "\n",
    "    all_data.append(data)\n",
    "\n",
    "with open('user_study_0115.json', 'w') as json_file:\n",
    "    json.dump(all_data, json_file)\n"
   ]
  }
 ],
 "metadata": {
  "kernelspec": {
   "display_name": "diffusers",
   "language": "python",
   "name": "diffusers"
  },
  "language_info": {
   "codemirror_mode": {
    "name": "ipython",
    "version": 3
   },
   "file_extension": ".py",
   "mimetype": "text/x-python",
   "name": "python",
   "nbconvert_exporter": "python",
   "pygments_lexer": "ipython3",
   "version": "3.10.10"
  }
 },
 "nbformat": 4,
 "nbformat_minor": 5
}

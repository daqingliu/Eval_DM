{
 "cells": [
  {
   "cell_type": "code",
   "execution_count": 1,
   "id": "bb564096-c4f5-4843-9fe6-3d5b91d29434",
   "metadata": {},
   "outputs": [],
   "source": [
    "import json\n",
    "\n",
    "result_path = './resut_db_0115_liudaqing1.json'\n",
    "result = json.load(open(result_path))"
   ]
  },
  {
   "cell_type": "code",
   "execution_count": 2,
   "id": "8868a2ed-d069-4815-bd85-65ea719b096f",
   "metadata": {},
   "outputs": [],
   "source": [
    "quality = {'base':0, 'adv':0, 'indifferent':0}\n",
    "\n",
    "for res in result:\n",
    "    img1_source = res['img1'].split('/')[-2]\n",
    "    img2_source = res['img2'].split('/')[-2]\n",
    "    answers = [q['answer'] for q in res['question']]\n",
    "    \n",
    "    if answers[0] == 0:\n",
    "        quality[img1_source] += 1\n",
    "    elif answers[0] == 1:\n",
    "        quality['indifferent'] += 1\n",
    "    elif answers[0] == 2:\n",
    "        quality[img2_source] += 1\n",
    "    else:\n",
    "        assert answers[0] in [0, 1, 2]"
   ]
  },
  {
   "cell_type": "code",
   "execution_count": 7,
   "id": "d84c47f7-f780-49cd-8a37-cf09e73d9e1e",
   "metadata": {},
   "outputs": [
    {
     "name": "stdout",
     "output_type": "stream",
     "text": [
      "{'base': 4, 'adv': 17, 'indifferent': 9}\n",
      "quality on dpo:base = 4.25\n",
      "quality on dpo:base = 1.3076923076923077\n"
     ]
    }
   ],
   "source": [
    "print(quality)\n",
    "print('quality on dpo:base = '+str(quality['adv']/quality['base']))\n",
    "print('quality on dpo:base = '+str(quality['adv']/(quality['base']+quality['indifferent'])))"
   ]
  },
  {
   "cell_type": "code",
   "execution_count": null,
   "id": "4a509d14-e7b0-4862-a502-88a2da129186",
   "metadata": {},
   "outputs": [],
   "source": []
  }
 ],
 "metadata": {
  "kernelspec": {
   "display_name": "diffusers",
   "language": "python",
   "name": "diffusers"
  },
  "language_info": {
   "codemirror_mode": {
    "name": "ipython",
    "version": 3
   },
   "file_extension": ".py",
   "mimetype": "text/x-python",
   "name": "python",
   "nbconvert_exporter": "python",
   "pygments_lexer": "ipython3",
   "version": "3.10.10"
  }
 },
 "nbformat": 4,
 "nbformat_minor": 5
}
